{
  "cells": [
    {
      "cell_type": "markdown",
      "metadata": {
        "id": "rX8mhOLljYeM"
      },
      "source": [
        "##### Copyright 2019 The TensorFlow Authors."
      ]
    },
    {
      "cell_type": "code",
      "execution_count": null,
      "metadata": {
        "cellView": "form",
        "id": "BZSlp3DAjdYf"
      },
      "outputs": [],
      "source": [
        "#@title Licensed under the Apache License, Version 2.0 (the \"License\");\n",
        "# you may not use this file except in compliance with the License.\n",
        "# You may obtain a copy of the License at\n",
        "#\n",
        "# https://www.apache.org/licenses/LICENSE-2.0\n",
        "#\n",
        "# Unless required by applicable law or agreed to in writing, software\n",
        "# distributed under the License is distributed on an \"AS IS\" BASIS,\n",
        "# WITHOUT WARRANTIES OR CONDITIONS OF ANY KIND, either express or implied.\n",
        "# See the License for the specific language governing permissions and\n",
        "# limitations under the License."
      ]
    },
    {
      "cell_type": "markdown",
      "metadata": {
        "id": "3wF5wszaj97Y"
      },
      "source": [
        "# 初学者的 TensorFlow 2.0 教程\n",
        "\n",
        "Advanced guide: https://github.com/tensorflow/docs-l10n/blob/master/site/zh-cn/tutorials/quickstart/advanced.ipynb"
      ]
    },
    {
      "cell_type": "markdown",
      "metadata": {
        "id": "DUNzJc4jTj6G"
      },
      "source": [
        "<table class=\"tfo-notebook-buttons\" align=\"left\">\n",
        "  <td>     <a target=\"_blank\" href=\"https://tensorflow.google.cn/tutorials/quickstart/beginner\"><img src=\"https://tensorflow.google.cn/images/tf_logo_32px.png\">在 TensorFlow.org 观看</a>   </td>\n",
        "  <td><a target=\"_blank\" href=\"https://colab.research.google.com/github/tensorflow/docs-l10n/blob/master/site/zh-cn/tutorials/quickstart/beginner.ipynb\"><img src=\"https://tensorflow.google.cn/images/colab_logo_32px.png\">在 Google Colab 中运行 </a></td>\n",
        "  <td>     <a target=\"_blank\" href=\"https://github.com/tensorflow/docs-l10n/blob/master/site/zh-cn/tutorials/quickstart/beginner.ipynb\"><img src=\"https://tensorflow.google.cn/images/GitHub-Mark-32px.png\">在 GitHub 查看源代码</a>   </td>\n",
        "  <td>     <a href=\"https://storage.googleapis.com/tensorflow_docs/docs-l10n/site/zh-cn/tutorials/quickstart/beginner.ipynb\"><img src=\"https://tensorflow.google.cn/images/download_logo_32px.png\">下载笔记本</a>   </td>\n",
        "</table>"
      ]
    },
    {
      "cell_type": "markdown",
      "metadata": {
        "id": "04QgGZc9bF5D"
      },
      "source": [
        "此简短介绍使用 [Keras](https://tensorflow.google.cn/guide/keras/overview) 进行以下操作：\n",
        "\n",
        "1. 加载一个预构建的数据集。\n",
        "2. 构建对图像进行分类的神经网络机器学习模型。\n",
        "3. 训练此神经网络。\n",
        "4. 评估模型的准确率。"
      ]
    },
    {
      "cell_type": "markdown",
      "metadata": {
        "id": "hiH7AC-NTniF"
      },
      "source": [
        "这是一个 [Google Colaboratory](https://colab.research.google.com/notebooks/welcome.ipynb) 笔记本文件。 Python程序可以直接在浏览器中运行，这是学习 Tensorflow 的绝佳方式。想要学习该教程，请点击此页面顶部的按钮，在Google Colab中运行笔记本。\n",
        "\n",
        "1. 在 Colab中, 连接到Python运行环境： 在菜单条的右上方, 选择 *CONNECT*。\n",
        "2. 运行所有的代码块: 选择 *Runtime* &gt; *Run all*。"
      ]
    },
    {
      "cell_type": "markdown",
      "metadata": {
        "id": "nnrWf3PCEzXL"
      },
      "source": [
        "## 设置 TensorFlow\n",
        "\n",
        "首先将 TensorFlow 导入到您的程序："
      ]
    },
    {
      "cell_type": "code",
      "execution_count": 1,
      "metadata": {
        "id": "0trJmd6DjqBZ"
      },
      "outputs": [],
      "source": [
        "import tensorflow as tf"
      ]
    },
    {
      "cell_type": "code",
      "execution_count": null,
      "metadata": {
        "id": "leRxnQTR5oBh"
      },
      "outputs": [],
      "source": [
        "#指定GPU\n",
        "#import os\n",
        "#os.environ[\"CUDA_VISIBLE_DEVICES\"] = \"0\"\n",
        "gpus = tf.config.experimental.list_physical_devices('GPU')\n",
        "tf.config.experimental.set_memory_growth(gpus[0],True)\n",
        "#初始化\n",
        "import matplotlib.pyplot as plt\n",
        "plt.rcParams['font.sans-serif'] = ['SimHei']"
      ]
    },
    {
      "cell_type": "markdown",
      "metadata": {
        "id": "7NAbSZiaoJ4z"
      },
      "source": [
        "如果您在自己的开发环境而不是 [Colab](https://colab.research.google.com/github/tensorflow/docs/blob/master/site/en/tutorials/quickstart/beginner.ipynb) 中操作，请参阅设置 TensorFlow 以进行开发的[安装指南](https://tensorflow.google.cn/install)。\n",
        "\n",
        "注：如果您使用自己的开发环境，请确保您已升级到最新的 `pip` 以安装 TensorFlow 2 软件包。有关详情，请参阅[安装指南](https://tensorflow.google.cn/install)。\n",
        "\n",
        "## 数据集介绍\n",
        "MNIST 数据集包含70000（60000+10000）个样本，其中有60000个训练样本和10000个测试样本，每个样本的像素大小为28*28。\n",
        "\n",
        "在Keras中已经内置了多种公共数据集，其中就包含MNIST数据集，如图所示。\n",
        "![](https://img-blog.csdnimg.cn/20210306205149957.png?x-oss-process=image/watermark,type_ZmFuZ3poZW5naGVpdGk,shadow_10,text_aHR0cHM6Ly9ibG9nLmNzZG4ubmV0L3dlaXhpbl80NTk1NDQ1NA==,size_16,color_FFFFFF,t_70)\n",
        "所以可以直接调用 tf.keras.datasets.mnist，直接下载数据集。\n",
        "\n",
        "## 模型训练思路\n",
        "\n",
        "这是数字识别模型的神经网络结构，如图所示。\n",
        "* 1层隐含层（全连接层）\n",
        "* 60000条训练数据和10000条测试数据，28x28像素的灰度图像\n",
        "* 每个样本有28x28像素点，输入样本有2828=784个像素值；\n",
        "* 故输入层设置784个节点；\n",
        "* 隐含层尽量设置成2的n次幂个节点，故选择128个节点，隐含层激活函数：ReLU函数；\n",
        "* 输出层用于输出数字识别结果0~9，故输出层设置10个节点，\n",
        "* 输出层激活函数：softmax函数（实现多分类）\n",
        "* 损失函数：稀疏交叉熵损失函数\n",
        "* 输入层有784个节点，隐含层有128个神经元，输出层有10个节点\n",
        "\n",
        "\n",
        "![](https://img-blog.csdnimg.cn/20210306225842624.png?x-oss-process=image/watermark,type_ZmFuZ3poZW5naGVpdGk,shadow_10,text_aHR0cHM6Ly9ibG9nLmNzZG4ubmV0L3dlaXhpbl80NTk1NDQ1NA==,size_16,color_FFFFFF,t_70)\n",
        "\n",
        "\n",
        "\n",
        "\n",
        "我们采用神经网络训练手写数字模型，分为以下几步：\n",
        "\n",
        "## 1. 加载数据集\n",
        "\n",
        "加载并准备 [MNIST 数据集](http://yann.lecun.com/exdb/mnist/)。\n",
        "\n",
        "\n",
        "\n",
        "将样本数据从整数转换为浮点数："
      ]
    },
    {
      "cell_type": "code",
      "execution_count": 26,
      "metadata": {
        "colab": {
          "base_uri": "https://localhost:8080/"
        },
        "id": "7FP5258xjs-v",
        "outputId": "e7d556fd-f6a8-455e-f81e-6e4ea1944f22"
      },
      "outputs": [
        {
          "name": "stdout",
          "output_type": "stream",
          "text": [
            "\n",
            " train_x:(60000, 28, 28), train_y:(60000,), test_x:(10000, 28, 28), test_y:(10000,)\n"
          ]
        }
      ],
      "source": [
        "mnist = tf.keras.datasets.mnist\n",
        "\n",
        "(train_x, train_y), (test_x, test_y) = mnist.load_data()\n",
        "\n",
        "print('\\n train_x:%s, train_y:%s, test_x:%s, test_y:%s'%(train_x.shape,train_y.shape,test_x.shape,test_y.shape))"
      ]
    },
    {
      "cell_type": "markdown",
      "metadata": {
        "id": "YJ3aCxXTxurt"
      },
      "source": [
        "从这里可以看出数据集的结构形状train_x存放了60000张28*28像素的数字图像，并有train_y有60000条标签值与之相对应，用于训练模型；test_x和test_y同理，用于测试模型。"
      ]
    },
    {
      "cell_type": "markdown",
      "metadata": {
        "id": "gbt_aprSx7Up"
      },
      "source": [
        "## 2. 数据预处理"
      ]
    },
    {
      "cell_type": "code",
      "execution_count": 27,
      "metadata": {
        "id": "Fhguq-qQx-4b"
      },
      "outputs": [],
      "source": [
        "#归一化、并转换为tensor张量，数据类型为float32.\n",
        "x_train,x_test = tf.cast(train_x/255.0,tf.float32),tf.cast(test_x/255.0,tf.float32)   #归一化\n",
        "y_train,y_test = tf.cast(train_y,tf.int16),tf.cast(test_y,tf.int16)"
      ]
    },
    {
      "cell_type": "markdown",
      "metadata": {
        "id": "BPZ68wASog_I"
      },
      "source": [
        "## 3. 构建机器学习模型\n",
        "\n",
        "通过堆叠层来构建 `tf.keras.Sequential` 模型。\n",
        "由于数据集比较简单，使用单层隐含层的神经网络就可以达到足够低的损失和较高的准确率。"
      ]
    },
    {
      "cell_type": "code",
      "execution_count": 6,
      "metadata": {
        "colab": {
          "base_uri": "https://localhost:8080/"
        },
        "id": "h3IKyzTCDNGo",
        "outputId": "f4fe271c-7c12-4e49-c186-d5c435631586"
      },
      "outputs": [
        {
          "name": "stdout",
          "output_type": "stream",
          "text": [
            "Model: \"sequential\"\n",
            "_________________________________________________________________\n",
            " Layer (type)                Output Shape              Param #   \n",
            "=================================================================\n",
            " flatten (Flatten)           (None, 784)               0         \n",
            "                                                                 \n",
            " dense (Dense)               (None, 128)               100480    \n",
            "                                                                 \n",
            " dropout (Dropout)           (None, 128)               0         \n",
            "                                                                 \n",
            " dense_1 (Dense)             (None, 10)                1290      \n",
            "                                                                 \n",
            "=================================================================\n",
            "Total params: 101770 (397.54 KB)\n",
            "Trainable params: 101770 (397.54 KB)\n",
            "Non-trainable params: 0 (0.00 Byte)\n",
            "_________________________________________________________________\n",
            "\n",
            " None\n"
          ]
        }
      ],
      "source": [
        "model = tf.keras.models.Sequential([\n",
        "  tf.keras.layers.Flatten(input_shape=(28, 28)), #添加Flatten层说明输入数据的形状\n",
        "  tf.keras.layers.Dense(128, activation='relu'), #添加隐含层，为全连接层，128个节点，relu激活函数\n",
        "  tf.keras.layers.Dropout(0.2),\n",
        "  tf.keras.layers.Dense(10, activation='softmax') #添加输出层，为全连接层，10个节点，softmax激活函数\n",
        "])\n",
        "print('\\n',model.summary())     #查看网络结构和参数信息"
      ]
    },
    {
      "cell_type": "markdown",
      "metadata": {
        "id": "ppCIcZx76YGN"
      },
      "source": [
        "## 4. 配置模型训练方法"
      ]
    },
    {
      "cell_type": "markdown",
      "metadata": {
        "id": "l2hiez2eIUz8"
      },
      "source": [
        "对于每个样本，模型都会返回一个包含 [logits](https://developers.google.com/machine-learning/glossary#logits) 或 [log-odds](https://developers.google.com/machine-learning/glossary#log-odds) 分数的向量，每个类一个。"
      ]
    },
    {
      "cell_type": "code",
      "execution_count": 7,
      "metadata": {
        "colab": {
          "base_uri": "https://localhost:8080/"
        },
        "id": "OeOrNdnkEEcR",
        "outputId": "47b6b0cf-125a-4abe-f838-27709efe8b96"
      },
      "outputs": [
        {
          "data": {
            "text/plain": [
              "array([[0.09987934, 0.10044068, 0.09985069, 0.10001198, 0.09989322,\n",
              "        0.10015649, 0.10003187, 0.09975901, 0.09998547, 0.09999119]],\n",
              "      dtype=float32)"
            ]
          },
          "execution_count": 7,
          "metadata": {},
          "output_type": "execute_result"
        }
      ],
      "source": [
        "predictions = model(x_train[:1]).numpy()\n",
        "predictions"
      ]
    },
    {
      "cell_type": "markdown",
      "metadata": {
        "id": "tgjhDQGcIniO"
      },
      "source": [
        "`tf.nn.softmax` 函数将这些 logits 转换为每个类的*概率*："
      ]
    },
    {
      "cell_type": "code",
      "execution_count": 8,
      "metadata": {
        "colab": {
          "base_uri": "https://localhost:8080/"
        },
        "id": "zWSRnQ0WI5eq",
        "outputId": "78fc656e-640a-4fd4-b886-899a1ed420ec"
      },
      "outputs": [
        {
          "data": {
            "text/plain": [
              "array([[0.09998792, 0.10004407, 0.09998506, 0.10000119, 0.09998932,\n",
              "        0.10001564, 0.10000318, 0.0999759 , 0.09999854, 0.09999911]],\n",
              "      dtype=float32)"
            ]
          },
          "execution_count": 8,
          "metadata": {},
          "output_type": "execute_result"
        }
      ],
      "source": [
        "tf.nn.softmax(predictions).numpy()"
      ]
    },
    {
      "cell_type": "markdown",
      "metadata": {
        "id": "he5u_okAYS4a"
      },
      "source": [
        "注：可以将 `tf.nn.softmax` 烘焙到网络最后一层的激活函数中。虽然这可以使模型输出更易解释，但不建议使用这种方式，因为在使用 softmax 输出时不可能为所有模型提供精确且数值稳定的损失计算。"
      ]
    },
    {
      "cell_type": "markdown",
      "metadata": {
        "id": "hQyugpgRIyrA"
      },
      "source": [
        "使用 `losses.SparseCategoricalCrossentropy` 为训练定义损失函数，它会接受 logits 向量和 `True` 索引，并为每个样本返回一个标量损失。"
      ]
    },
    {
      "cell_type": "code",
      "execution_count": 9,
      "metadata": {
        "id": "RSkzdv8MD0tT"
      },
      "outputs": [],
      "source": [
        "loss_fn = tf.keras.losses.SparseCategoricalCrossentropy(from_logits=True)"
      ]
    },
    {
      "cell_type": "markdown",
      "metadata": {
        "id": "SfR4MsSDU880"
      },
      "source": [
        "此损失等于 true 类的负对数概率：如果模型确定类正确，则损失为零。\n",
        "\n",
        "这个未经训练的模型给出的概率接近随机（每个类为 1/10），因此初始损失应该接近 `-tf.math.log(1/10) ~= 2.3`。"
      ]
    },
    {
      "cell_type": "code",
      "execution_count": 10,
      "metadata": {
        "colab": {
          "base_uri": "https://localhost:8080/"
        },
        "id": "NJWqEVrrJ7ZB",
        "outputId": "94b8d49a-84d1-4812-b7ac-81ef37037fc1"
      },
      "outputs": [
        {
          "data": {
            "text/plain": [
              "2.3024287"
            ]
          },
          "execution_count": 10,
          "metadata": {},
          "output_type": "execute_result"
        }
      ],
      "source": [
        "loss_fn(y_train[:1], predictions).numpy()"
      ]
    },
    {
      "cell_type": "markdown",
      "metadata": {
        "id": "ada44eb947d4"
      },
      "source": [
        "在开始训练之前，使用 Keras `Model.compile` 配置和编译模型。将 [`optimizer`](https://tensorflow.google.cn/api_docs/python/tf/keras/optimizers) 类设置为 `adam`，将 `loss` 设置为您之前定义的 `loss_fn` 函数，并通过将 `metrics` 参数设置为 `accuracy` 来指定要为模型评估的指标。"
      ]
    },
    {
      "cell_type": "code",
      "execution_count": 31,
      "metadata": {
        "id": "9foNKHzTD2Vo"
      },
      "outputs": [],
      "source": [
        "# adam算法参数采用keras默认的公开参数，损失函数采用稀疏交叉熵损失函数，准确率采用稀疏分类准确率函数\n",
        "model.compile(optimizer='adam',loss='sparse_categorical_crossentropy',metrics=['sparse_categorical_accuracy'])\n",
        "\n",
        "\n",
        "# model.compile(optimizer='adam',\n",
        "#               loss=loss_fn,\n",
        "#               metrics=['accuracy'])"
      ]
    },
    {
      "cell_type": "markdown",
      "metadata": {
        "id": "ix4mEL65on-w"
      },
      "source": [
        "## 5. 训练模型\n",
        "\n",
        "使用 `Model.fit` 方法调整您的模型参数并最小化损失：\n",
        "\n",
        "批量训练大小为64，迭代5次，测试集比例0.2（48000条训练集数据，12000条测试集数据）"
      ]
    },
    {
      "cell_type": "code",
      "execution_count": 32,
      "metadata": {
        "colab": {
          "base_uri": "https://localhost:8080/"
        },
        "id": "y7suUbJXVLqP",
        "outputId": "33f17676-502d-47f1-bfac-43cea0f7eff1"
      },
      "outputs": [
        {
          "name": "stdout",
          "output_type": "stream",
          "text": [
            "Epoch 1/5\n",
            "750/750 [==============================] - 4s 4ms/step - loss: 20.8932 - sparse_categorical_accuracy: 0.9155 - val_loss: 11.8010 - val_sparse_categorical_accuracy: 0.9394\n",
            "Epoch 2/5\n",
            "750/750 [==============================] - 3s 4ms/step - loss: 11.9971 - sparse_categorical_accuracy: 0.9202 - val_loss: 7.2522 - val_sparse_categorical_accuracy: 0.9404\n",
            "Epoch 3/5\n",
            "750/750 [==============================] - 3s 5ms/step - loss: 7.5469 - sparse_categorical_accuracy: 0.9178 - val_loss: 4.6259 - val_sparse_categorical_accuracy: 0.9392\n",
            "Epoch 4/5\n",
            "750/750 [==============================] - 3s 4ms/step - loss: 4.9697 - sparse_categorical_accuracy: 0.9136 - val_loss: 3.1684 - val_sparse_categorical_accuracy: 0.9362\n",
            "Epoch 5/5\n",
            "750/750 [==============================] - 2s 3ms/step - loss: 3.4359 - sparse_categorical_accuracy: 0.9062 - val_loss: 2.2360 - val_sparse_categorical_accuracy: 0.9340\n"
          ]
        }
      ],
      "source": [
        "history = model.fit(x_train, y_train, batch_size=64,epochs=5,validation_split=0.2)"
      ]
    },
    {
      "cell_type": "markdown",
      "metadata": {
        "id": "4mDAAPFqVVgn"
      },
      "source": [
        "`Model.evaluate` 方法通常在 \"[Validation-set](https://developers.google.com/machine-learning/glossary#validation-set)\" 或 \"[Test-set](https://developers.google.com/machine-learning/glossary#test-set)\" 上检查模型性能。"
      ]
    },
    {
      "cell_type": "markdown",
      "metadata": {
        "id": "b2K9nrZ362od"
      },
      "source": [
        "## 6. 评估模型"
      ]
    },
    {
      "cell_type": "code",
      "execution_count": 33,
      "metadata": {
        "colab": {
          "base_uri": "https://localhost:8080/"
        },
        "id": "F7dTAzgHDUh7",
        "outputId": "86e604c3-8403-4e36-d400-126e1b9b5bdb"
      },
      "outputs": [
        {
          "name": "stdout",
          "output_type": "stream",
          "text": [
            "313/313 - 1s - loss: 2.1232 - sparse_categorical_accuracy: 0.9320 - 569ms/epoch - 2ms/step\n"
          ]
        },
        {
          "data": {
            "text/plain": [
              "[2.1231706142425537, 0.9319999814033508]"
            ]
          },
          "execution_count": 33,
          "metadata": {},
          "output_type": "execute_result"
        }
      ],
      "source": [
        "model.evaluate(x_test,  y_test, verbose=2) #每次迭代输出一条记录，来评价该模型是否有比较好的泛化能力"
      ]
    },
    {
      "cell_type": "markdown",
      "metadata": {
        "id": "T4JfEh7kvx6m"
      },
      "source": [
        "现在，这个照片分类器的准确度已经达到 98%。想要了解更多，请阅读 [TensorFlow 教程](https://tensorflow.google.cn/tutorials/)。"
      ]
    },
    {
      "cell_type": "markdown",
      "metadata": {
        "id": "Aj8NrlzlJqDG"
      },
      "source": [
        "如果您想让模型返回概率，可以封装经过训练的模型，并将 softmax 附加到该模型："
      ]
    },
    {
      "cell_type": "code",
      "execution_count": null,
      "metadata": {
        "id": "rYb6DrEH0GMv"
      },
      "outputs": [],
      "source": [
        "probability_model = tf.keras.Sequential([\n",
        "  model,\n",
        "  tf.keras.layers.Softmax()\n",
        "])"
      ]
    },
    {
      "cell_type": "code",
      "execution_count": null,
      "metadata": {
        "id": "cnqOZtUp1YR_"
      },
      "outputs": [],
      "source": [
        "probability_model(x_test[:5])"
      ]
    },
    {
      "cell_type": "markdown",
      "metadata": {
        "id": "lzqLEV9dz3s0"
      },
      "source": [
        "## 保存模型\n",
        "\n",
        "保存模型的格式可分为两种：\n",
        "·HDF5格式\n",
        "·SavedModel格式\n",
        "二者的区别我会在后续的文章中介绍，我采用的是HDF5格式，这里不赘述。\n",
        "\n",
        "保存模型的方式也可分为两种：\n",
        "·仅保存模型参数model.save_weights()\n",
        "·保存整个模型model.save()\n",
        "二者的区别我也会在后续的文章中介绍，这两种方式都可以尝试一下，代码如下\n"
      ]
    },
    {
      "cell_type": "code",
      "execution_count": 14,
      "metadata": {
        "colab": {
          "base_uri": "https://localhost:8080/"
        },
        "id": "Y2m2Hyh2z23H",
        "outputId": "6a07f7ef-4e07-4f38-f81f-c71872e7be23"
      },
      "outputs": [
        {
          "name": "stderr",
          "output_type": "stream",
          "text": [
            "/usr/local/lib/python3.10/dist-packages/keras/src/engine/training.py:3079: UserWarning: You are saving your model as an HDF5 file via `model.save()`. This file format is considered legacy. We recommend using instead the native Keras format, e.g. `model.save('my_model.keras')`.\n",
            "  saving_api.save_model(\n"
          ]
        }
      ],
      "source": [
        "#保存模型参数\n",
        "#model.save_weights('mnist_weights.h5')\n",
        "#保存整个模型\n",
        "model.save('mnist_weights.h5')\n"
      ]
    },
    {
      "cell_type": "code",
      "execution_count": null,
      "metadata": {
        "id": "mKa-AXT38umg"
      },
      "outputs": [],
      "source": [
        "#加载模型参数\n",
        "history = model.load_weights('C:\\\\Users\\\\xuyansong\\\\Desktop\\\\深度学习\\\\python\\\\MNIST\\\\模型参数\\\\mnist_weights.h5') #路径根据文件实际位置修改，不然会报错\n",
        "\n",
        "\n",
        "#加载整个模型\n",
        "model = tf.keras.models.load_model('C:\\\\Users\\\\xuyansong\\\\Desktop\\\\深度学习\\\\python\\\\MNIST\\\\整个模型\\\\mnist_weights.h5')\t#路径根据文件实际位置修改，不然会报错\n",
        "model.summary()     #查看摘要"
      ]
    },
    {
      "cell_type": "markdown",
      "metadata": {
        "id": "AW0yXAJt0bDX"
      },
      "source": [
        "## 结果可视化"
      ]
    },
    {
      "cell_type": "code",
      "execution_count": 35,
      "metadata": {
        "colab": {
          "base_uri": "https://localhost:8080/",
          "height": 329
        },
        "id": "cez_E-fc0d-D",
        "outputId": "e7f04297-96ae-4f63-d477-350dbfdbc83f"
      },
      "outputs": [
        {
          "name": "stdout",
          "output_type": "stream",
          "text": [
            "{'loss': [20.893238067626953, 11.997140884399414, 7.546853065490723, 4.969663143157959, 3.4359312057495117], 'sparse_categorical_accuracy': [0.9154583215713501, 0.9201874732971191, 0.9178125262260437, 0.9136041402816772, 0.90625], 'val_loss': [11.801015853881836, 7.252245903015137, 4.625871181488037, 3.168442487716675, 2.2360241413116455], 'val_sparse_categorical_accuracy': [0.9394166469573975, 0.940416693687439, 0.9391666650772095, 0.9362499713897705, 0.9340000152587891]}\n"
          ]
        },
        {
          "data": {
            "image/png": "[encoded data removed]",
            "text/plain": [
              "<Figure size 1000x300 with 2 Axes>"
            ]
          },
          "metadata": {},
          "output_type": "display_data"
        }
      ],
      "source": [
        "#结果可视化\n",
        "print(history.history)\n",
        "loss = history.history['loss']          #训练集损失\n",
        "val_loss = history.history['val_loss']  #测试集损失\n",
        "acc = history.history['sparse_categorical_accuracy']            #训练集准确率\n",
        "val_acc = history.history['val_sparse_categorical_accuracy']    #测试集准确率\n",
        "\n",
        "plt.figure(figsize=(10,3))\n",
        "\n",
        "plt.subplot(121)\n",
        "plt.plot(loss,color='b',label='train')\n",
        "plt.plot(val_loss,color='r',label='test')\n",
        "plt.ylabel('loss')\n",
        "plt.legend()\n",
        "\n",
        "plt.subplot(122)\n",
        "plt.plot(acc,color='b',label='train')\n",
        "plt.plot(val_acc,color='r',label='test')\n",
        "plt.ylabel('Accuracy')\n",
        "plt.legend()\n",
        "\n",
        "#暂停5秒关闭画布，否则画布一直打开的同时，会持续占用GPU内存\n",
        "#plt.ion()       #打开交互式操作模式\n",
        "#plt.show()\n",
        "#plt.pause(5)\n",
        "#plt.close()\n",
        "\n",
        "plt.show()\n"
      ]
    },
    {
      "cell_type": "markdown",
      "metadata": {
        "id": "N1YEGbBe2LOV"
      },
      "source": [
        "## 使用模型推理\n",
        "\n",
        "从测试集样本中随机抽取10张图像，并展示结果："
      ]
    },
    {
      "cell_type": "code",
      "execution_count": 30,
      "metadata": {
        "colab": {
          "base_uri": "https://localhost:8080/",
          "height": 551
        },
        "id": "IFBfQJ9I2Ldw",
        "outputId": "7bf489aa-de85-4bb0-e000-73e021438eab"
      },
      "outputs": [
        {
          "name": "stdout",
          "output_type": "stream",
          "text": [
            "1/1 [==============================] - 0s 17ms/step\n",
            "1/1 [==============================] - 0s 17ms/step\n",
            "1/1 [==============================] - 0s 17ms/step\n",
            "1/1 [==============================] - 0s 16ms/step\n",
            "1/1 [==============================] - 0s 16ms/step\n",
            "1/1 [==============================] - 0s 18ms/step\n",
            "1/1 [==============================] - 0s 19ms/step\n",
            "1/1 [==============================] - 0s 18ms/step\n",
            "1/1 [==============================] - 0s 20ms/step\n",
            "1/1 [==============================] - 0s 19ms/step\n"
          ]
        },
        {
          "data": {
            "image/png": "[encoded data removed]",
            "text/plain": [
              "<Figure size 640x480 with 10 Axes>"
            ]
          },
          "metadata": {},
          "output_type": "display_data"
        }
      ],
      "source": [
        "import matplotlib.pyplot as plt\n",
        "import numpy as np\n",
        "plt.figure()\n",
        "for i in range(10):\n",
        "    num = np.random.randint(1,10000)\t#在1~10000之间生成随机整数\n",
        "\n",
        "    plt.subplot(2,5,i+1)\n",
        "    plt.axis('off')\n",
        "    plt.imshow(test_x[num],cmap='gray')\n",
        "    demo = tf.reshape(test_x[num],(1,28,28))\n",
        "    y_pred = np.argmax(model.predict(demo))\n",
        "    plt.title('Tag value:'+str(test_y[num])+'\\nPredicted:'+str(y_pred))\n"
      ]
    },
    {
      "cell_type": "markdown",
      "metadata": {
        "id": "-47O6_GLdRuT"
      },
      "source": [
        "## 结论\n",
        "\n",
        "恭喜！您已经利用 [Keras](https://tensorflow.google.cn/guide/keras/overview) API 借助预构建数据集训练了一个机器学习模型。\n",
        "\n",
        "有关使用 Keras 的更多示例，请查阅[教程](https://tensorflow.google.cn/tutorials/keras/)。要详细了解如何使用 Keras 构建模型，请阅读[指南](https://tensorflow.google.cn/guide/keras)。如果您想详细了解如何加载和准备数据，请参阅有关[图像数据加载](https://tensorflow.google.cn/tutorials/load_data/images)或 [CSV 数据加载](https://tensorflow.google.cn/tutorials/load_data/csv)的教程。\n"
      ]
    }
  ],
  "metadata": {
    "accelerator": "GPU",
    "colab": {
      "collapsed_sections": [
        "rX8mhOLljYeM"
      ],
      "gpuType": "T4",
      "provenance": []
    },
    "kernelspec": {
      "display_name": "Python 3",
      "name": "python3"
    }
  },
  "nbformat": 4,
  "nbformat_minor": 0
}
