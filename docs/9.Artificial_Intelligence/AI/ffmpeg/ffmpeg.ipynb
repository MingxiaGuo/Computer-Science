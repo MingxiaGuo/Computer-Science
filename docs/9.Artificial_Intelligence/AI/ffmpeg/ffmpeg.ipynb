{
 "cells": [
  {
   "cell_type": "code",
   "execution_count": null,
   "metadata": {},
   "outputs": [],
   "source": [
    "# 转换音频格式\n",
    "ffmpeg -y -i {} -strict -2 {}'.format('temp/audio.mp3', 'temp/temp.wav')\n",
    "\n",
    "\n",
    "'ffmpeg -y -i {} -i {} -strict -2 -q:v 1 {}'.format(args.audio, 'temp/result.avi', args.outfile)"
   ]
  },
  {
   "cell_type": "code",
   "execution_count": null,
   "metadata": {},
   "outputs": [],
   "source": [
    "# 从视频中提取音频文件\n",
    "ffmpeg -i {path} -f wav -ar {sample_rate} {out_path}\n"
   ]
  },
  {
   "cell_type": "code",
   "execution_count": null,
   "metadata": {},
   "outputs": [],
   "source": [
    "从{path} 提取帧/图像\n",
    "ffmpeg -i {path} -vf fps={fps} -qmin 1 -q:v 1 -start_number 0 {os.path.join(out_path, \"%d.jpg\")}"
   ]
  },
  {
   "cell_type": "code",
   "execution_count": null,
   "metadata": {},
   "outputs": [],
   "source": [
    "# 从视频提取首帧\n",
    "ffmpeg -i lansidai_03.mp4 -vf \"select=eq(pict_type\\,I)\" -vframes 1 lansidai_03.jpg"
   ]
  },
  {
   "cell_type": "markdown",
   "metadata": {},
   "source": []
  }
 ],
 "metadata": {
  "language_info": {
   "name": "python"
  }
 },
 "nbformat": 4,
 "nbformat_minor": 2
}
