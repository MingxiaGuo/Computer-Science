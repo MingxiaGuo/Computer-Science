{
  "cells": [
    {
      "cell_type": "markdown",
      "metadata": {
        "id": "view-in-github",
        "colab_type": "text"
      },
      "source": [
        "<a href=\"https://colab.research.google.com/github/MingxiaGuo/Artifical_Intelligence/blob/main/SadTalker_Video_Lip_Sync.ipynb\" target=\"_parent\"><img src=\"https://colab.research.google.com/assets/colab-badge.svg\" alt=\"Open In Colab\"/></a>"
      ]
    },
    {
      "cell_type": "markdown",
      "metadata": {
        "id": "RnYTDZCry6Q0"
      },
      "source": [
        "## SadTalker-Video-Lip-Sync\n",
        "[Code](https://github.com/Zz-ww/SadTalker-Video-Lip-Sync) |"
      ]
    },
    {
      "cell_type": "code",
      "execution_count": null,
      "metadata": {
        "id": "i95Ro1Rqu55z"
      },
      "outputs": [],
      "source": [
        "#@title 1.克隆源码, 下载checkpoints\n",
        "!nvidia-smi\n",
        "!git clone https://github.com/Zz-ww/SadTalker-Video-Lip-Sync.git\n",
        "%cd SadTalker-Video-Lip-Sync\n",
        "\n",
        "# from google.colab import drive\n",
        "# drive.mount(\"/content/drive\") # 挂在google 硬盘\n",
        "\n",
        "!tar -zxvf /content/drive/MyDrive/ColabNotebooks/SadTalker-Video-Lip-Sync-checkpoints.tar.gz -C /content/SadTalker-Video-Lip-Sync"
      ]
    },
    {
      "cell_type": "code",
      "source": [
        "#@title 2. Installation\n",
        "# 3.1 创建虚拟环境\n",
        "!wget https://repo.anaconda.com/miniconda/Miniconda3-py38_23.5.2-0-Linux-x86_64.sh\n",
        "!bash ./Miniconda3-py38_23.5.2-0-Linux-x86_64.sh -b -f -p /usr/local\n",
        "import sys\n",
        "sys.path.append('/usr/local/lib/python3.8/site-packages/')\n",
        "#!conda install python3.8 -y\n",
        "!python --version\n",
        "!conda create --name SadTalkerLip python=3.8 -y\n",
        "!source activate SadTalkerLip\n",
        "!python --version\n",
        "\n",
        "# 3.2 安装依赖包\n",
        "!pip install torch==1.12.1+cu113 torchvision==0.13.1+cu113 torchaudio==0.12.1 --extra-index-url https://download.pytorch.org/whl/cu113\n",
        "!conda install ffmpeg\n",
        "!pip install -r requirements.txt\n",
        "\n",
        "#如需使用DAIN模型进行补帧需安装paddle\n",
        "# CUDA 11.2\n",
        "!python -m pip install paddlepaddle-gpu==2.3.2.post112 -f https://www.paddlepaddle.org.cn/whl/linux/mkl/avx/stable.html\n",
        "\n",
        "!pip install Ninja\n",
        "!pip install face_alignment==1.3.4"
      ],
      "metadata": {
        "id": "RpU-NNDRSqV9"
      },
      "execution_count": null,
      "outputs": []
    },
    {
      "cell_type": "code",
      "execution_count": null,
      "metadata": {
        "id": "bLSe1Y0vvtVV"
      },
      "outputs": [],
      "source": [
        "#@title 3. 运行\n",
        "%cd /content/SadTalker-Video-Lip-Sync\n",
        "!python inference.py --driven_audio 3.wav --source_video 444.mp4 --enhancer lip --use_DAIN --time_step 0.5\n",
        "\n",
        "                    #(使用该功能会占用较大显存和消耗较多时间)\n",
        "                    #(默认lip)"
      ]
    }
  ],
  "metadata": {
    "accelerator": "GPU",
    "colab": {
      "provenance": [],
      "mount_file_id": "1GlyQ1_WGzD-kBJ3PYgkfUTfw-rI8R4td",
      "authorship_tag": "ABX9TyM7po8PjEwepQd5wYEC1kH/",
      "include_colab_link": true
    },
    "kernelspec": {
      "display_name": "Python 3",
      "name": "python3"
    },
    "language_info": {
      "name": "python"
    }
  },
  "nbformat": 4,
  "nbformat_minor": 0
}