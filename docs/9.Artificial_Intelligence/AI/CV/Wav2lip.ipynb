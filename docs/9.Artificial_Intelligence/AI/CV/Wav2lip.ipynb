{
  "nbformat": 4,
  "nbformat_minor": 0,
  "metadata": {
    "colab": {
      "provenance": [],
      "gpuType": "T4",
      "toc_visible": true,
      "include_colab_link": true
    },
    "kernelspec": {
      "name": "python3",
      "display_name": "Python 3"
    },
    "language_info": {
      "name": "python"
    },
    "accelerator": "GPU"
  },
  "cells": [
    {
      "cell_type": "markdown",
      "metadata": {
        "id": "view-in-github",
        "colab_type": "text"
      },
      "source": [
        "<a href=\"https://colab.research.google.com/github/MingxiaGuo/Artifical_Intelligence/blob/main/Wav2lip.ipynb\" target=\"_parent\"><img src=\"https://colab.research.google.com/assets/colab-badge.svg\" alt=\"Open In Colab\"/></a>"
      ]
    },
    {
      "cell_type": "markdown",
      "source": [
        "# Wav2lip: A Lip Sync Expert Is All You Need for Speech to Lip Generation In the Wild published at ACM Multimedia 2020.\n",
        "[Project](http://bhaasha.iiit.ac.in/lipsync/); [Code](https://github.com/Rudrabha/Wav2Lip); [Paper](http://arxiv.org/abs/2008.10010)\n"
      ],
      "metadata": {
        "id": "P6Fv5T0dTYjH"
      }
    },
    {
      "cell_type": "markdown",
      "source": [
        "## 1. Clone Repo and download Pre-trained Models"
      ],
      "metadata": {
        "id": "cO3S1LPdFZgD"
      }
    },
    {
      "cell_type": "code",
      "execution_count": null,
      "metadata": {
        "id": "Ub8D4Q-JDw8W"
      },
      "outputs": [],
      "source": [
        "!git clone https://github.com/Rudrabha/Wav2Lip.git\n",
        "%cd Wav2Lip\n",
        "!wget 'https://www.adrianbulat.com/downloads/python-fan/s3fd-619a316812.pth' -O face_detection/detection/sfd/s3fd.pth\n",
        "# !cp /content/drive/MyDrive/ColabNotebooks/wav2lip.pth /content/Wav2Lip/checkpoints/\n",
        "!wget --no-check-certificate \"https://drive.google.com/uc?export=download&id=11dea1pMHmqSxcU_xm5sIICnzjh6zIrT1\" -O checkpoints/wav2lip.pth\n"
      ]
    },
    {
      "cell_type": "markdown",
      "source": [
        "## 2. Installation"
      ],
      "metadata": {
        "id": "0ZJiw4leK7Bh"
      }
    },
    {
      "cell_type": "code",
      "source": [
        "!wget https://repo.anaconda.com/miniconda/Miniconda3-py38_23.5.2-0-Linux-x86_64.sh\n",
        "!bash ./Miniconda3-py38_23.5.2-0-Linux-x86_64.sh -b -f -p /usr/local\n",
        "import sys\n",
        "sys.path.append('/usr/local/lib/python3.8/site-packages/')\n",
        "!conda create -n wav2lip python=3.8.1\n",
        "!source activate wav2lip\n",
        "!apt-get update\n",
        "!apt-get install ffmpeg\n",
        "!pip install --use-pep517 basicsr\n",
        "!pip install -r requirements.txt\n",
        "!pip install --upgrade opencv-python\n",
        "!pip install librosa==0.8.0\n",
        "!pip install numpy==1.23.4"
      ],
      "metadata": {
        "id": "D8J4o6O7IDQI"
      },
      "execution_count": null,
      "outputs": []
    },
    {
      "cell_type": "markdown",
      "source": [
        "## 3. Run"
      ],
      "metadata": {
        "id": "ncpJr744ZXEk"
      }
    },
    {
      "cell_type": "code",
      "source": [
        "!mkdir inputs"
      ],
      "metadata": {
        "id": "ErYAT5dXW7kJ"
      },
      "execution_count": null,
      "outputs": []
    },
    {
      "cell_type": "code",
      "source": [
        "!python3 inference.py --checkpoint_path checkpoints/wav2lip.pth --face ./inputs/video.mp4 --audio ./inputs/audio.WAV --outfile ./results/wav2lip-result.mp4\n"
      ],
      "metadata": {
        "id": "PoirODReMjmO"
      },
      "execution_count": null,
      "outputs": []
    }
  ]
}