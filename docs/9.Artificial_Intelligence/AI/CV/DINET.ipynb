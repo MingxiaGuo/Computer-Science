{
  "cells": [
    {
      "cell_type": "markdown",
      "metadata": {
        "id": "view-in-github",
        "colab_type": "text"
      },
      "source": [
        "<a href=\"https://colab.research.google.com/github/MingxiaGuo/Artifical_Intelligence/blob/main/DINET.ipynb\" target=\"_parent\"><img src=\"https://colab.research.google.com/assets/colab-badge.svg\" alt=\"Open In Colab\"/></a>"
      ]
    },
    {
      "cell_type": "markdown",
      "source": [
        "# DINET: Deformation Inpainting Network for Realistic Face Visually Dubbing on High Resolution Video (AAAI2023)\n",
        "[Code](https://github.com/MRzzm/DINet) | [Paper](https://fuxivirtualhuman.github.io/pdf/AAAI2023_FaceDubbing.pdf)\n",
        "\n"
      ],
      "metadata": {
        "id": "xTwNdIN4a9aR"
      }
    },
    {
      "cell_type": "markdown",
      "source": [
        "## 1. Clone Repo and download Pre-tained Models"
      ],
      "metadata": {
        "id": "ti42EUFmbwJB"
      }
    },
    {
      "cell_type": "code",
      "execution_count": null,
      "metadata": {
        "colab": {
          "base_uri": "https://localhost:8080/"
        },
        "id": "ZzAKZKV68abX",
        "outputId": "935d2558-613c-4355-deef-8cae6ecea83f"
      },
      "outputs": [
        {
          "output_type": "stream",
          "name": "stdout",
          "text": [
            "Mounted at /content/drive\n"
          ]
        }
      ],
      "source": [
        "from google.colab import drive\n",
        "drive.mount('/content/drive')\n",
        "!unzip -d /content/DINet /content/drive/MyDrive/ColabNotebooks/asserts.zip"
      ]
    },
    {
      "cell_type": "code",
      "execution_count": null,
      "metadata": {
        "id": "uYEWSd_UiWhI"
      },
      "outputs": [],
      "source": [
        "!git clone https://github.com/MRzzm/DINet.git\n"
      ]
    },
    {
      "cell_type": "code",
      "execution_count": null,
      "metadata": {
        "id": "msykTi4DT1ro"
      },
      "outputs": [],
      "source": [
        "!pip install -q condacolab\n",
        "import condacolab\n",
        "condacolab.install()\n",
        "!conda update -n base -c conda-forge conda\n",
        "!conda --version\n",
        "\n",
        "!conda create -n DINET37 python=3.7\n",
        "!activate DINET37\n",
        "\n",
        "%cd /content/DINet\n",
        "!source activate DINET37 && pip install -r requirements.txt\n",
        "!source activate DINET37 && pip install resampy\n",
        "!source activate DINET37 && pip install python_speech_features\n",
        "!source activate DINET37 && pip install scipy\n",
        "!source activate DINET37 && pip install tensorflow==1.15.2\n",
        "!source activate DINET37 && pip install protobuf==3.20.0\n",
        "!source activate DINET37 && pip install torch==1.7.1\n",
        "!source activate DINET37 && pip install torchvision==0.8.2\n",
        "!source activate DINET37 && pip install opencv_python==4.6.0.66"
      ]
    },
    {
      "cell_type": "markdown",
      "source": [
        "## 2. Run"
      ],
      "metadata": {
        "id": "GiyfSF7WcnBo"
      }
    },
    {
      "cell_type": "code",
      "execution_count": null,
      "metadata": {
        "id": "_Thdvvr5owug"
      },
      "outputs": [],
      "source": [
        "!source activate DINET37 && python inference.py --mouth_region_size=256 --source_video_path=./asserts/examples/444.mp4 --source_openface_landmark_path=./asserts/examples/777.csv --driving_audio_path=./asserts/examples/3.wav --pretrained_clip_DINet_path=./asserts/clip_training_DINet_256mouth.pth"
      ]
    }
  ],
  "metadata": {
    "accelerator": "GPU",
    "colab": {
      "provenance": [],
      "include_colab_link": true
    },
    "kernelspec": {
      "display_name": "Python 3",
      "name": "python3"
    },
    "language_info": {
      "name": "python"
    }
  },
  "nbformat": 4,
  "nbformat_minor": 0
}