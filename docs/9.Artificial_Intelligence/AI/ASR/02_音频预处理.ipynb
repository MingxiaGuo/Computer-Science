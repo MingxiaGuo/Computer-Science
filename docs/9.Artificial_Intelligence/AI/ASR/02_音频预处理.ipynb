{
 "cells": [
  {
   "cell_type": "markdown",
   "metadata": {},
   "source": [
    "# 音频预处理"
   ]
  },
  {
   "cell_type": "code",
   "execution_count": null,
   "metadata": {},
   "outputs": [],
   "source": [
    "import librosa\n",
    "import numpy as np "
   ]
  },
  {
   "cell_type": "markdown",
   "metadata": {},
   "source": [
    "## 1.静音消除"
   ]
  },
  {
   "cell_type": "code",
   "execution_count": null,
   "metadata": {},
   "outputs": [],
   "source": [
    "# 静音消除：去除两端沉默\n",
    "audio_data = 'assets/audio.wav'\n",
    "x , sr = librosa.load(audio_data)\n",
    "audio_file, _ = librosa.effects.trim(x)\n",
    "print('Audio Fwile:', audio_file, '\\n')\n",
    "print('Audio File shape:', np.shape(audio_file))"
   ]
  },
  {
   "cell_type": "code",
   "execution_count": null,
   "metadata": {},
   "outputs": [],
   "source": [
    "# 静音消除：包括语音内部的\n"
   ]
  }
 ],
 "metadata": {
  "language_info": {
   "name": "python"
  }
 },
 "nbformat": 4,
 "nbformat_minor": 2
}
