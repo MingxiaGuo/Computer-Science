{
 "cells": [
  {
   "cell_type": "markdown",
   "id": "50f9d7ae",
   "metadata": {},
   "source": [
    "# Python\n",
    "\n",
    "https://github.com/qq8697/python-tutorial/blob/master/10_%E5%9F%BA%E6%9C%AC%E6%A6%82%E5%BF%B5.md\n",
    "\n",
    "\n",
    "Python 的创始人为荷兰人吉多•范罗苏姆(Guido van Rossum)。1989年的圣诞节期间，吉多：范罗苏姆为了在阿姆斯特丹打发\n",
    "时间，决心开发一个新的脚本解释程序，作为 ABC 语言的一种维手。之所以选中Python 作为程序的名字，是因为他是 BBC 电\n",
    "枧剧——泰提-派森的飞行马戏团 (Monty Pythonl s Flying Circus)的爱好者。\n",
    "\n",
    "1991年，第一个Python 编译器诞生。它是用C语吉实现的，并能够调用C语言的库文件\n",
    "\n",
    "Python 2.0 于2000年10月16日发布，增加了实现光整的拉圾巨收，并且支特 Unicode。\n",
    "\n",
    "Python 3.0 于2008年12月3日发布，此版不完全兼容之前的Python源代码。不过，很多新特性后来也被移植到旧的Python2.6/2.7版本。\n",
    "\n",
    "1. Python数值运算\n",
    "2. Python字符串处理\n",
    "3. Python 正则表达式\n",
    "4. python 索引\n",
    "5. 列表\n",
    "\n",
    "Python数据类型\n",
    "* 常用数据类型：int, float, str, bool\n",
    "\n",
    "\n"
   ]
  },
  {
   "cell_type": "markdown",
   "id": "ba53771d",
   "metadata": {},
   "source": [
    "## 1. Python数值运算"
   ]
  },
  {
   "cell_type": "markdown",
   "id": "d0713f7f",
   "metadata": {},
   "source": [
    "### 1.1 基本数学运算"
   ]
  },
  {
   "cell_type": "code",
   "execution_count": 3,
   "id": "be54c560",
   "metadata": {},
   "outputs": [
    {
     "data": {
      "text/plain": [
       "2"
      ]
     },
     "execution_count": 3,
     "metadata": {},
     "output_type": "execute_result"
    }
   ],
   "source": [
    "1+1 "
   ]
  },
  {
   "cell_type": "code",
   "execution_count": 4,
   "id": "2191a876",
   "metadata": {},
   "outputs": [
    {
     "data": {
      "text/plain": [
       "20"
      ]
     },
     "execution_count": 4,
     "metadata": {},
     "output_type": "execute_result"
    }
   ],
   "source": [
    "4*5"
   ]
  },
  {
   "cell_type": "code",
   "execution_count": 5,
   "id": "aa2551bb",
   "metadata": {},
   "outputs": [
    {
     "data": {
      "text/plain": [
       "3.3333333333333335"
      ]
     },
     "execution_count": 5,
     "metadata": {},
     "output_type": "execute_result"
    }
   ],
   "source": [
    "10/3"
   ]
  },
  {
   "cell_type": "code",
   "execution_count": 7,
   "id": "46798ce3",
   "metadata": {},
   "outputs": [
    {
     "data": {
      "text/plain": [
       "1"
      ]
     },
     "execution_count": 7,
     "metadata": {},
     "output_type": "execute_result"
    }
   ],
   "source": [
    "# %是取余数\n",
    "10%3"
   ]
  },
  {
   "cell_type": "code",
   "execution_count": 8,
   "id": "774eb034",
   "metadata": {},
   "outputs": [
    {
     "data": {
      "text/plain": [
       "8"
      ]
     },
     "execution_count": 8,
     "metadata": {},
     "output_type": "execute_result"
    }
   ],
   "source": [
    "# ** 次幂\n",
    "2**3"
   ]
  },
  {
   "cell_type": "markdown",
   "id": "e8a9b1bb",
   "metadata": {},
   "source": [
    "### 常用数据类型\n",
    "* int\n",
    "* float\n",
    "* str\n",
    "* bool"
   ]
  },
  {
   "cell_type": "code",
   "execution_count": 9,
   "id": "614f9596",
   "metadata": {},
   "outputs": [],
   "source": [
    "# 赋值,python 不需要指明什么数据类型，python自动识别\n",
    "tang = 3"
   ]
  },
  {
   "cell_type": "code",
   "execution_count": 10,
   "id": "223b18b6",
   "metadata": {},
   "outputs": [
    {
     "data": {
      "text/plain": [
       "3"
      ]
     },
     "execution_count": 10,
     "metadata": {},
     "output_type": "execute_result"
    }
   ],
   "source": [
    "tang"
   ]
  },
  {
   "cell_type": "code",
   "execution_count": 11,
   "id": "1f502bf1",
   "metadata": {},
   "outputs": [
    {
     "data": {
      "text/plain": [
       "int"
      ]
     },
     "execution_count": 11,
     "metadata": {},
     "output_type": "execute_result"
    }
   ],
   "source": [
    "#  tye(tang)打印类型\n",
    "type(tang)"
   ]
  },
  {
   "cell_type": "code",
   "execution_count": 12,
   "id": "118b88bc",
   "metadata": {},
   "outputs": [
    {
     "data": {
      "text/plain": [
       "float"
      ]
     },
     "execution_count": 12,
     "metadata": {},
     "output_type": "execute_result"
    }
   ],
   "source": [
    "tang = 1.5\n",
    "type(tang)"
   ]
  },
  {
   "cell_type": "code",
   "execution_count": 27,
   "id": "773e5153",
   "metadata": {},
   "outputs": [],
   "source": [
    "tang = True"
   ]
  },
  {
   "cell_type": "code",
   "execution_count": 28,
   "id": "088d6096",
   "metadata": {},
   "outputs": [
    {
     "data": {
      "text/plain": [
       "True"
      ]
     },
     "execution_count": 28,
     "metadata": {},
     "output_type": "execute_result"
    }
   ],
   "source": [
    "tang"
   ]
  },
  {
   "cell_type": "code",
   "execution_count": 29,
   "id": "bded2867",
   "metadata": {},
   "outputs": [
    {
     "data": {
      "text/plain": [
       "False"
      ]
     },
     "execution_count": 29,
     "metadata": {},
     "output_type": "execute_result"
    }
   ],
   "source": [
    "3 > 5"
   ]
  },
  {
   "cell_type": "code",
   "execution_count": null,
   "id": "5b18b4a1",
   "metadata": {},
   "outputs": [],
   "source": [
    "tang = 3\n",
    "3 < tang < 5"
   ]
  },
  {
   "cell_type": "markdown",
   "id": "045ea492",
   "metadata": {},
   "source": [
    "### 类型转换"
   ]
  },
  {
   "cell_type": "code",
   "execution_count": 14,
   "id": "d714a6f1",
   "metadata": {},
   "outputs": [
    {
     "data": {
      "text/plain": [
       "int"
      ]
     },
     "execution_count": 14,
     "metadata": {},
     "output_type": "execute_result"
    }
   ],
   "source": [
    "# 类型转换\n",
    "tang = 1.5\n",
    "tang2 = int(tang)\n",
    "type(tang2)"
   ]
  },
  {
   "cell_type": "code",
   "execution_count": 15,
   "id": "1fac2ed7",
   "metadata": {},
   "outputs": [
    {
     "data": {
      "text/plain": [
       "str"
      ]
     },
     "execution_count": 15,
     "metadata": {},
     "output_type": "execute_result"
    }
   ],
   "source": [
    "tang_str = '123'\n",
    "type(tang_str)"
   ]
  },
  {
   "cell_type": "code",
   "execution_count": 16,
   "id": "204f470f",
   "metadata": {},
   "outputs": [
    {
     "data": {
      "text/plain": [
       "123"
      ]
     },
     "execution_count": 16,
     "metadata": {},
     "output_type": "execute_result"
    }
   ],
   "source": [
    "int(tang_str)"
   ]
  },
  {
   "cell_type": "code",
   "execution_count": 17,
   "id": "90b47dd2",
   "metadata": {},
   "outputs": [
    {
     "data": {
      "text/plain": [
       "123.0"
      ]
     },
     "execution_count": 17,
     "metadata": {},
     "output_type": "execute_result"
    }
   ],
   "source": [
    "float(tang_str)"
   ]
  },
  {
   "cell_type": "code",
   "execution_count": 18,
   "id": "f6fd2477",
   "metadata": {},
   "outputs": [
    {
     "ename": "ValueError",
     "evalue": "could not convert string to float: 'tang'",
     "output_type": "error",
     "traceback": [
      "\u001b[0;31m---------------------------------------------------------------------------\u001b[0m",
      "\u001b[0;31mValueError\u001b[0m                                Traceback (most recent call last)",
      "Cell \u001b[0;32mIn[18], line 3\u001b[0m\n\u001b[1;32m      1\u001b[0m tang_str \u001b[38;5;241m=\u001b[39m \u001b[38;5;124m'\u001b[39m\u001b[38;5;124mtang\u001b[39m\u001b[38;5;124m'\u001b[39m\n\u001b[1;32m      2\u001b[0m \u001b[38;5;28mtype\u001b[39m(tang_str)\n\u001b[0;32m----> 3\u001b[0m \u001b[38;5;28mfloat\u001b[39m(tang_str)\n",
      "\u001b[0;31mValueError\u001b[0m: could not convert string to float: 'tang'"
     ]
    }
   ],
   "source": [
    "tang_str = 'tang'\n",
    "type(tang_str)\n",
    "float(tang_str)"
   ]
  },
  {
   "cell_type": "markdown",
   "id": "a00a6d7e",
   "metadata": {},
   "source": [
    "基本数值操作"
   ]
  },
  {
   "cell_type": "code",
   "execution_count": null,
   "id": "88cd5451",
   "metadata": {},
   "outputs": [],
   "source": [
    "# 取绝对值\n",
    "abs(15.6)"
   ]
  },
  {
   "cell_type": "code",
   "execution_count": 19,
   "id": "6729ea0e",
   "metadata": {},
   "outputs": [
    {
     "data": {
      "text/plain": [
       "16"
      ]
     },
     "execution_count": 19,
     "metadata": {},
     "output_type": "execute_result"
    }
   ],
   "source": [
    "# 取整，四舍五入\n",
    "round(15.6)"
   ]
  },
  {
   "cell_type": "code",
   "execution_count": 20,
   "id": "0fb92e2c",
   "metadata": {},
   "outputs": [
    {
     "data": {
      "text/plain": [
       "2"
      ]
     },
     "execution_count": 20,
     "metadata": {},
     "output_type": "execute_result"
    }
   ],
   "source": [
    "min(2,3,4,5)"
   ]
  },
  {
   "cell_type": "code",
   "execution_count": 21,
   "id": "942e5d54",
   "metadata": {},
   "outputs": [
    {
     "data": {
      "text/plain": [
       "5"
      ]
     },
     "execution_count": 21,
     "metadata": {},
     "output_type": "execute_result"
    }
   ],
   "source": [
    "max(2,3,4,5)"
   ]
  },
  {
   "cell_type": "code",
   "execution_count": 23,
   "id": "ab7facae",
   "metadata": {},
   "outputs": [
    {
     "data": {
      "text/plain": [
       "1.3e-05"
      ]
     },
     "execution_count": 23,
     "metadata": {},
     "output_type": "execute_result"
    }
   ],
   "source": [
    "# 科学记数法\n",
    "1.3e-5"
   ]
  },
  {
   "cell_type": "code",
   "execution_count": null,
   "id": "a8f82daa",
   "metadata": {},
   "outputs": [],
   "source": [
    "1.3e5"
   ]
  },
  {
   "cell_type": "code",
   "execution_count": 24,
   "id": "d95affe6",
   "metadata": {},
   "outputs": [
    {
     "data": {
      "text/plain": [
       "255"
      ]
     },
     "execution_count": 24,
     "metadata": {},
     "output_type": "execute_result"
    }
   ],
   "source": [
    "#十六进制\n",
    "0xFF"
   ]
  },
  {
   "cell_type": "markdown",
   "id": "5a53bc08",
   "metadata": {},
   "source": [
    "## 2. Python 字符串处理\n",
    "1. 去掉空格或特殊字符\n",
    "2. 替换操作\n",
    "3. 替换操作\n",
    "4. 判断操作\n",
    "5. 分割合并操作\n",
    "6. 调帮助文档\n"
   ]
  },
  {
   "cell_type": "code",
   "execution_count": 32,
   "id": "e5eb71cd",
   "metadata": {},
   "outputs": [
    {
     "name": "stdout",
     "output_type": "stream",
     "text": [
      "hello python\n"
     ]
    }
   ],
   "source": [
    "tang_str = 'hello python'\n",
    "print(tang_str)"
   ]
  },
  {
   "cell_type": "code",
   "execution_count": 33,
   "id": "1c84d5e1",
   "metadata": {},
   "outputs": [
    {
     "data": {
      "text/plain": [
       "'hellopython'"
      ]
     },
     "execution_count": 33,
     "metadata": {},
     "output_type": "execute_result"
    }
   ],
   "source": [
    "tang = 'hello' + 'python'\n",
    "tang"
   ]
  },
  {
   "cell_type": "code",
   "execution_count": 34,
   "id": "853a252b",
   "metadata": {},
   "outputs": [
    {
     "data": {
      "text/plain": [
       "'hello pythonhello pythonhello python'"
      ]
     },
     "execution_count": 34,
     "metadata": {},
     "output_type": "execute_result"
    }
   ],
   "source": [
    "tang_str*3"
   ]
  },
  {
   "cell_type": "code",
   "execution_count": 36,
   "id": "e2b9144c",
   "metadata": {},
   "outputs": [
    {
     "data": {
      "text/plain": [
       "12"
      ]
     },
     "execution_count": 36,
     "metadata": {},
     "output_type": "execute_result"
    }
   ],
   "source": [
    "len(tang_str)"
   ]
  },
  {
   "cell_type": "markdown",
   "id": "b977daff",
   "metadata": {},
   "source": [
    "### 字符串操作"
   ]
  },
  {
   "cell_type": "code",
   "execution_count": 37,
   "id": "26f841a9",
   "metadata": {},
   "outputs": [
    {
     "data": {
      "text/plain": [
       "['1', '2', '3', '4', '5']"
      ]
     },
     "execution_count": 37,
     "metadata": {},
     "output_type": "execute_result"
    }
   ],
   "source": [
    "# 切分\n",
    "tang = '1 2 3 4 5'\n",
    "tang.split()"
   ]
  },
  {
   "cell_type": "code",
   "execution_count": null,
   "id": "d0ccc838",
   "metadata": {},
   "outputs": [],
   "source": [
    "tang = '1,2,3,4,5'\n",
    "tang = tang.split(',')"
   ]
  },
  {
   "cell_type": "code",
   "execution_count": null,
   "id": "368f77f5",
   "metadata": {},
   "outputs": [],
   "source": [
    "tang"
   ]
  },
  {
   "cell_type": "code",
   "execution_count": 38,
   "id": "1483f9a0",
   "metadata": {},
   "outputs": [
    {
     "data": {
      "text/plain": [
       "'1 2 3 4 5'"
      ]
     },
     "execution_count": 38,
     "metadata": {},
     "output_type": "execute_result"
    }
   ],
   "source": [
    "str = ''\n",
    "str.join(tang)"
   ]
  },
  {
   "cell_type": "code",
   "execution_count": 41,
   "id": "841b7510",
   "metadata": {},
   "outputs": [],
   "source": [
    "tang = 'hello python'\n",
    "tang2 = tang.replace('python','world') # 需要新定义变量并赋值"
   ]
  },
  {
   "cell_type": "code",
   "execution_count": 42,
   "id": "b92e0659",
   "metadata": {},
   "outputs": [
    {
     "data": {
      "text/plain": [
       "'hello world'"
      ]
     },
     "execution_count": 42,
     "metadata": {},
     "output_type": "execute_result"
    }
   ],
   "source": [
    "tang2"
   ]
  },
  {
   "cell_type": "code",
   "execution_count": 43,
   "id": "ec8e459d",
   "metadata": {},
   "outputs": [
    {
     "data": {
      "text/plain": [
       "'HELLO WORLD'"
      ]
     },
     "execution_count": 43,
     "metadata": {},
     "output_type": "execute_result"
    }
   ],
   "source": [
    "tang2.upper()"
   ]
  },
  {
   "cell_type": "code",
   "execution_count": 44,
   "id": "95756f65",
   "metadata": {},
   "outputs": [
    {
     "data": {
      "text/plain": [
       "'hello world'"
      ]
     },
     "execution_count": 44,
     "metadata": {},
     "output_type": "execute_result"
    }
   ],
   "source": [
    "tang2 = 'HELLO WORLD'\n",
    "tang2.lower()"
   ]
  },
  {
   "cell_type": "code",
   "execution_count": 45,
   "id": "8713d449",
   "metadata": {},
   "outputs": [],
   "source": [
    "tang = '      hello python'\n",
    "tang.strip()"
   ]
  },
  {
   "cell_type": "code",
   "execution_count": null,
   "id": "ca495fbd",
   "metadata": {},
   "outputs": [],
   "source": [
    "tang"
   ]
  },
  {
   "cell_type": "code",
   "execution_count": null,
   "id": "35606b53",
   "metadata": {},
   "outputs": [],
   "source": [
    "tang.lstrip()"
   ]
  },
  {
   "cell_type": "code",
   "execution_count": null,
   "id": "c9d4b21b",
   "metadata": {},
   "outputs": [],
   "source": [
    "tang.rstrip()"
   ]
  },
  {
   "cell_type": "code",
   "execution_count": 46,
   "id": "787744b7",
   "metadata": {},
   "outputs": [
    {
     "data": {
      "text/plain": [
       "'tang yu dd'"
      ]
     },
     "execution_count": 46,
     "metadata": {},
     "output_type": "execute_result"
    }
   ],
   "source": [
    "'{} {} {}'.format('tang', 'yu', 'dd')"
   ]
  },
  {
   "cell_type": "code",
   "execution_count": 47,
   "id": "3daab41e",
   "metadata": {},
   "outputs": [
    {
     "data": {
      "text/plain": [
       "'dd yu tang'"
      ]
     },
     "execution_count": 47,
     "metadata": {},
     "output_type": "execute_result"
    }
   ],
   "source": [
    "'{2} {1} {0}'.format('tang', 'yu', 'dd')"
   ]
  },
  {
   "cell_type": "code",
   "execution_count": 48,
   "id": "20eab4de",
   "metadata": {},
   "outputs": [
    {
     "data": {
      "text/plain": [
       "'10 5 1'"
      ]
     },
     "execution_count": 48,
     "metadata": {},
     "output_type": "execute_result"
    }
   ],
   "source": [
    "'{tang} {yu} {dd}'.format(tang=10, yu=5, dd=1)"
   ]
  },
  {
   "cell_type": "code",
   "execution_count": 50,
   "id": "f8f1ff6b",
   "metadata": {},
   "outputs": [
    {
     "data": {
      "text/plain": [
       "'tang yu dd: 456.000000 789'"
      ]
     },
     "execution_count": 50,
     "metadata": {},
     "output_type": "execute_result"
    }
   ],
   "source": [
    "tang = 'tang yu dd:'\n",
    "a = 123\n",
    "b = 456.0\n",
    "c = 789\n",
    "result = '%s %f %d' % (tang, b, c) \n",
    "result"
   ]
  },
  {
   "cell_type": "markdown",
   "id": "175a2889",
   "metadata": {},
   "source": [
    "### 2.1 去掉空格或特殊字符"
   ]
  },
  {
   "cell_type": "code",
   "execution_count": null,
   "id": "3617458c",
   "metadata": {},
   "outputs": [],
   "source": [
    "input_str = \" 今天天气不错，挺风和日丽的 \""
   ]
  },
  {
   "cell_type": "code",
   "execution_count": null,
   "id": "10fbd894",
   "metadata": {},
   "outputs": [],
   "source": [
    "# 去掉字符串中的所有空格\n",
    "input_str.strip() "
   ]
  },
  {
   "cell_type": "code",
   "execution_count": null,
   "id": "b040c7e5",
   "metadata": {},
   "outputs": [],
   "source": [
    "# 去掉字符串结尾的空格\n",
    "input_str.rstrip()"
   ]
  },
  {
   "cell_type": "code",
   "execution_count": null,
   "id": "372d89c0",
   "metadata": {},
   "outputs": [],
   "source": [
    "# 去掉字符串头部的空格\n",
    "input_str.lstrip()"
   ]
  },
  {
   "cell_type": "code",
   "execution_count": null,
   "id": "6603c441",
   "metadata": {},
   "outputs": [],
   "source": [
    "input_str = \"AAA今天天气不错，挺风和日丽的AAA\""
   ]
  },
  {
   "cell_type": "code",
   "execution_count": null,
   "id": "19831599",
   "metadata": {},
   "outputs": [],
   "source": [
    "# 去掉字符串中的所有A ,用于删除特殊字符\n",
    "input_str.strip('A') "
   ]
  },
  {
   "cell_type": "code",
   "execution_count": null,
   "id": "cd374bfe",
   "metadata": {},
   "outputs": [],
   "source": [
    "# 去掉字符串结尾的A\n",
    "input_str.rstrip(\"A\")"
   ]
  },
  {
   "cell_type": "code",
   "execution_count": null,
   "id": "146a0245",
   "metadata": {},
   "outputs": [],
   "source": [
    "# 去掉字符串头部的A\n",
    "input_str.lstrip(\"A\")"
   ]
  },
  {
   "cell_type": "markdown",
   "id": "f8cdad51",
   "metadata": {},
   "source": [
    "### 2.2 替换操作"
   ]
  },
  {
   "cell_type": "code",
   "execution_count": null,
   "id": "40a89ce0",
   "metadata": {},
   "outputs": [],
   "source": [
    "input_str = \" 今天天气不错，挺风和日丽的 \""
   ]
  },
  {
   "cell_type": "code",
   "execution_count": null,
   "id": "be1290f4",
   "metadata": {},
   "outputs": [],
   "source": [
    "# 替换所有的今天为昨天，精确匹配\n",
    "input_str.replace('今天', '昨天')"
   ]
  },
  {
   "cell_type": "code",
   "execution_count": null,
   "id": "bc5cd768",
   "metadata": {},
   "outputs": [],
   "source": [
    "# 去掉'今天'\n",
    "input_str.replace('今天', '')"
   ]
  },
  {
   "cell_type": "markdown",
   "id": "406bac08",
   "metadata": {},
   "source": [
    "## 2.3 查找操作"
   ]
  },
  {
   "cell_type": "code",
   "execution_count": null,
   "id": "3dae8446",
   "metadata": {},
   "outputs": [],
   "source": [
    "# 查找'今天'第一次出现的位置\n",
    "input_str.find('今天')"
   ]
  },
  {
   "cell_type": "markdown",
   "id": "66514ff5",
   "metadata": {},
   "source": [
    "### 2.4 判断操作"
   ]
  },
  {
   "cell_type": "code",
   "execution_count": null,
   "id": "37fe69a5",
   "metadata": {},
   "outputs": [],
   "source": [
    "# 判断input_str是否全是字母\n",
    "input_str = \" 今天天气不错，挺风和日丽的 \"\n",
    "input_str.isalpha() "
   ]
  },
  {
   "cell_type": "code",
   "execution_count": null,
   "id": "3c1e02e4",
   "metadata": {},
   "outputs": [],
   "source": [
    "# 判断input_str是否全是字母\n",
    "input_str = 'ABC'\n",
    "input_str.isalpha() "
   ]
  },
  {
   "cell_type": "code",
   "execution_count": null,
   "id": "1e97fce4",
   "metadata": {},
   "outputs": [],
   "source": [
    "# 判断input_str是否全是数字\n",
    "input_str = 'ABC'\n",
    "input_str.isdigit() "
   ]
  },
  {
   "cell_type": "markdown",
   "id": "24743171",
   "metadata": {},
   "source": [
    "### 2.5 分割合并操作"
   ]
  },
  {
   "cell_type": "code",
   "execution_count": null,
   "id": "0aa6145c",
   "metadata": {},
   "outputs": [],
   "source": [
    "input_str = \"今天 天气 不错，挺 风和 日丽 的\""
   ]
  },
  {
   "cell_type": "code",
   "execution_count": null,
   "id": "338269cd",
   "metadata": {},
   "outputs": [],
   "source": [
    "input_str = input_str.split(' ') \n",
    "# 此时input_str是个list"
   ]
  },
  {
   "cell_type": "code",
   "execution_count": null,
   "id": "8f165387",
   "metadata": {},
   "outputs": [],
   "source": [
    "input_str"
   ]
  },
  {
   "cell_type": "code",
   "execution_count": null,
   "id": "0ccf5fa6",
   "metadata": {},
   "outputs": [],
   "source": [
    "' '.join(input_str)"
   ]
  },
  {
   "cell_type": "code",
   "execution_count": null,
   "id": "8c97d153",
   "metadata": {},
   "outputs": [],
   "source": [
    "''.join(input_str)"
   ]
  },
  {
   "cell_type": "markdown",
   "id": "885793e1",
   "metadata": {},
   "source": [
    "### 2.6 调帮助文档"
   ]
  },
  {
   "cell_type": "code",
   "execution_count": null,
   "id": "6d691a5f",
   "metadata": {},
   "outputs": [],
   "source": [
    "help(str)"
   ]
  },
  {
   "cell_type": "markdown",
   "id": "82d95b21",
   "metadata": {},
   "source": [
    "## Python正则表达式\n",
    "正则表达式语法: https://www.runoob.com/regexp/regexp-syntax.html\n",
    "\n",
    "* 指定好匹配的模式：pattern\n",
    "* 选择相应的方法：match, search等\n",
    "* 得到匹配结果：group\n",
    "\n",
    "* re.match # 从开始位置开始匹配，如果开头没有则无\n",
    "* re.search # 搜索整个字符串\n",
    "* re.findall # 搜索整个字符串，返回一个list"
   ]
  },
  {
   "cell_type": "code",
   "execution_count": null,
   "id": "4efdef3c",
   "metadata": {},
   "outputs": [],
   "source": [
    "input = '自然语言处理很重要 。12abc789'"
   ]
  },
  {
   "cell_type": "code",
   "execution_count": null,
   "id": "5aa0273b",
   "metadata": {},
   "outputs": [],
   "source": [
    "import re"
   ]
  },
  {
   "cell_type": "code",
   "execution_count": null,
   "id": "33cdab62",
   "metadata": {},
   "outputs": [],
   "source": [
    "pattern = re.compile(r'.')"
   ]
  },
  {
   "cell_type": "code",
   "execution_count": null,
   "id": "e299b05d",
   "metadata": {},
   "outputs": [],
   "source": [
    "re.findall(pattern, input)"
   ]
  },
  {
   "cell_type": "markdown",
   "id": "e9c94480",
   "metadata": {},
   "source": [
    "### 字符集合\n",
    "* [abc]指定包含字符\n",
    "* [a-zA-Z]来指定所有英文字母的大小写\n",
    "* [^a-zA-Z]来指定不匹配所有英文字母"
   ]
  },
  {
   "cell_type": "code",
   "execution_count": null,
   "id": "903e27df",
   "metadata": {},
   "outputs": [],
   "source": [
    "pattern = re.compile(r'[abc]')\n",
    "re.findall(pattern, input)"
   ]
  },
  {
   "cell_type": "code",
   "execution_count": null,
   "id": "82a6b188",
   "metadata": {},
   "outputs": [],
   "source": [
    "pattern = re.compile(r'[a-zA-Z]')\n",
    "re.findall(pattern, input)"
   ]
  },
  {
   "cell_type": "code",
   "execution_count": null,
   "id": "ba5a14e9",
   "metadata": {},
   "outputs": [],
   "source": [
    "pattern = re.compile(r'[^a-zA-Z]')\n",
    "re.findall(pattern, input)"
   ]
  },
  {
   "cell_type": "markdown",
   "id": "d5db6037",
   "metadata": {},
   "source": [
    "### 或方法\n",
    "将两个规则并列起来，以|连接，表示只要满足其中之一就可匹配\n",
    "* [a-zA-Z]|[0-9]表示满足数字或字母就可匹配，等价于[a-zA-Z0-9]"
   ]
  },
  {
   "cell_type": "code",
   "execution_count": null,
   "id": "df982985",
   "metadata": {},
   "outputs": [],
   "source": [
    "pattern = re.compile(r'[a-zA-Z]|[0-9]')\n",
    "re.findall(pattern, input)"
   ]
  },
  {
   "cell_type": "markdown",
   "id": "965fe4df",
   "metadata": {},
   "source": [
    "### 匹配数字'\\d'等价于[0-9]"
   ]
  },
  {
   "cell_type": "code",
   "execution_count": null,
   "id": "fdf553b3",
   "metadata": {},
   "outputs": [],
   "source": [
    "pattern = re.compile(r'\\d')\n",
    "re.findall(pattern, input)"
   ]
  },
  {
   "cell_type": "markdown",
   "id": "3296e8b5",
   "metadata": {},
   "source": [
    "### '\\D'匹配非数字"
   ]
  },
  {
   "cell_type": "code",
   "execution_count": null,
   "id": "f108493a",
   "metadata": {},
   "outputs": [],
   "source": [
    "pattern = re.compile(r'\\D')\n",
    "re.findall(pattern, input)"
   ]
  },
  {
   "cell_type": "markdown",
   "id": "6970e01c",
   "metadata": {},
   "source": [
    "### '\\w'匹配字母和数字"
   ]
  },
  {
   "cell_type": "code",
   "execution_count": null,
   "id": "88188d81",
   "metadata": {},
   "outputs": [],
   "source": [
    "pattern = re.compile(r'\\w')\n",
    "re.findall(pattern, input)"
   ]
  },
  {
   "cell_type": "markdown",
   "id": "f03b7c18",
   "metadata": {},
   "source": [
    "### '\\W'匹配非字母和数字"
   ]
  },
  {
   "cell_type": "code",
   "execution_count": null,
   "id": "7bdd8c9e",
   "metadata": {},
   "outputs": [],
   "source": [
    "pattern = re.compile(r'\\W')\n",
    "re.findall(pattern, input)"
   ]
  },
  {
   "cell_type": "markdown",
   "id": "b094151d",
   "metadata": {},
   "source": [
    "### '\\s'匹配间隔符"
   ]
  },
  {
   "cell_type": "code",
   "execution_count": null,
   "id": "28029dfa",
   "metadata": {},
   "outputs": [],
   "source": [
    "pattern = re.compile(r'\\s')\n",
    "re.findall(pattern, input)"
   ]
  },
  {
   "cell_type": "markdown",
   "id": "1abe34f5",
   "metadata": {},
   "source": [
    "### 重复\n",
    "正则表达式可以匹配不定长的字符串\n",
    "'*': 0或多次匹配\n",
    "'+': 1次或多次匹配\n",
    "'?': 0或1次匹配"
   ]
  },
  {
   "cell_type": "code",
   "execution_count": null,
   "id": "6d081aa3",
   "metadata": {},
   "outputs": [],
   "source": [
    "pattern = re.compile(r'\\d*')\n",
    "re.findall(pattern, input)"
   ]
  },
  {
   "cell_type": "code",
   "execution_count": null,
   "id": "8f208f19",
   "metadata": {},
   "outputs": [],
   "source": [
    "pattern = re.compile(r'\\d+')\n",
    "re.findall(pattern, input)"
   ]
  },
  {
   "cell_type": "code",
   "execution_count": null,
   "id": "56fee382",
   "metadata": {},
   "outputs": [],
   "source": [
    "pattern = re.compile(r'\\d?')\n",
    "re.findall(pattern, input)"
   ]
  },
  {
   "cell_type": "markdown",
   "id": "9f32c059",
   "metadata": {},
   "source": [
    "### 精确匹配和最小匹配\n",
    "'{m}'精确匹配m次\n",
    "'{m,n}' 匹配最少m次，最多n次 (n>m)"
   ]
  },
  {
   "cell_type": "code",
   "execution_count": null,
   "id": "23623418",
   "metadata": {},
   "outputs": [],
   "source": [
    "pattern = re.compile(r'\\d{3}')\n",
    "re.findall(pattern, input)"
   ]
  },
  {
   "cell_type": "code",
   "execution_count": null,
   "id": "d61d8095",
   "metadata": {},
   "outputs": [],
   "source": [
    "pattern = re.compile(r'\\d{1,3}')\n",
    "re.findall(pattern, input)"
   ]
  },
  {
   "cell_type": "markdown",
   "id": "c65ea0cc",
   "metadata": {},
   "source": [
    "## 4. Python索引\n",
    "\n",
    "* 从前面是0开始\n",
    "* 从后面是-1开始"
   ]
  },
  {
   "cell_type": "code",
   "execution_count": 51,
   "id": "393462d3",
   "metadata": {},
   "outputs": [
    {
     "data": {
      "text/plain": [
       "'t'"
      ]
     },
     "execution_count": 51,
     "metadata": {},
     "output_type": "execute_result"
    }
   ],
   "source": [
    "tang = 'tang yu di'\n",
    "tang[0]"
   ]
  },
  {
   "cell_type": "code",
   "execution_count": 52,
   "id": "b19b214a",
   "metadata": {},
   "outputs": [
    {
     "data": {
      "text/plain": [
       "'y'"
      ]
     },
     "execution_count": 52,
     "metadata": {},
     "output_type": "execute_result"
    }
   ],
   "source": [
    "tang[5]"
   ]
  },
  {
   "cell_type": "code",
   "execution_count": 53,
   "id": "42370bfe",
   "metadata": {},
   "outputs": [
    {
     "data": {
      "text/plain": [
       "'i'"
      ]
     },
     "execution_count": 53,
     "metadata": {},
     "output_type": "execute_result"
    }
   ],
   "source": [
    "tang[-1]"
   ]
  },
  {
   "cell_type": "code",
   "execution_count": 54,
   "id": "2dabcc19",
   "metadata": {},
   "outputs": [
    {
     "data": {
      "text/plain": [
       "'y'"
      ]
     },
     "execution_count": 54,
     "metadata": {},
     "output_type": "execute_result"
    }
   ],
   "source": [
    "tang[-5]"
   ]
  },
  {
   "cell_type": "code",
   "execution_count": 55,
   "id": "21fecb60",
   "metadata": {},
   "outputs": [
    {
     "ename": "IndexError",
     "evalue": "string index out of range",
     "output_type": "error",
     "traceback": [
      "\u001b[0;31m---------------------------------------------------------------------------\u001b[0m",
      "\u001b[0;31mIndexError\u001b[0m                                Traceback (most recent call last)",
      "Cell \u001b[0;32mIn[55], line 1\u001b[0m\n\u001b[0;32m----> 1\u001b[0m tang[\u001b[38;5;241m15\u001b[39m]\n",
      "\u001b[0;31mIndexError\u001b[0m: string index out of range"
     ]
    }
   ],
   "source": [
    "tang[15]"
   ]
  },
  {
   "cell_type": "markdown",
   "id": "8fd95d3f",
   "metadata": {},
   "source": [
    "### 切片\n",
    ": 表示从哪到哪,左闭右开的区间"
   ]
  },
  {
   "cell_type": "code",
   "execution_count": 56,
   "id": "9917d2a8",
   "metadata": {},
   "outputs": [
    {
     "data": {
      "text/plain": [
       "'tang'"
      ]
     },
     "execution_count": 56,
     "metadata": {},
     "output_type": "execute_result"
    }
   ],
   "source": [
    "tang[0:4]"
   ]
  },
  {
   "cell_type": "code",
   "execution_count": 58,
   "id": "5d16dd15",
   "metadata": {},
   "outputs": [
    {
     "data": {
      "text/plain": [
       "'yu di'"
      ]
     },
     "execution_count": 58,
     "metadata": {},
     "output_type": "execute_result"
    }
   ],
   "source": [
    "tang[5:]"
   ]
  },
  {
   "cell_type": "code",
   "execution_count": null,
   "id": "20ad85ec",
   "metadata": {},
   "outputs": [],
   "source": [
    "tang[:7]"
   ]
  },
  {
   "cell_type": "code",
   "execution_count": 59,
   "id": "0cc5bdb7",
   "metadata": {},
   "outputs": [
    {
     "data": {
      "text/plain": [
       "'ang yu '"
      ]
     },
     "execution_count": 59,
     "metadata": {},
     "output_type": "execute_result"
    }
   ],
   "source": [
    "tang[1:-2]"
   ]
  },
  {
   "cell_type": "code",
   "execution_count": 60,
   "id": "268ead9e",
   "metadata": {},
   "outputs": [
    {
     "data": {
      "text/plain": [
       "' di'"
      ]
     },
     "execution_count": 60,
     "metadata": {},
     "output_type": "execute_result"
    }
   ],
   "source": [
    "tang[-3:]"
   ]
  },
  {
   "cell_type": "code",
   "execution_count": 61,
   "id": "473a7e3e",
   "metadata": {},
   "outputs": [
    {
     "data": {
      "text/plain": [
       "'tang yu di'"
      ]
     },
     "execution_count": 61,
     "metadata": {},
     "output_type": "execute_result"
    }
   ],
   "source": [
    "tang[:]"
   ]
  },
  {
   "cell_type": "code",
   "execution_count": 62,
   "id": "9242bad4",
   "metadata": {},
   "outputs": [
    {
     "data": {
      "text/plain": [
       "'tn ud'"
      ]
     },
     "execution_count": 62,
     "metadata": {},
     "output_type": "execute_result"
    }
   ],
   "source": [
    "tang[::2] # 每隔2个取一个值"
   ]
  },
  {
   "cell_type": "markdown",
   "id": "1d06850c",
   "metadata": {},
   "source": [
    "## 列表\n",
    "* 通过[]创建list结构\n",
    "* 里边放任何类型都可以，没有长度限制，元素间不需要类型统一"
   ]
  },
  {
   "cell_type": "code",
   "execution_count": 63,
   "id": "0995bdf1",
   "metadata": {},
   "outputs": [
    {
     "data": {
      "text/plain": [
       "list"
      ]
     },
     "execution_count": 63,
     "metadata": {},
     "output_type": "execute_result"
    }
   ],
   "source": [
    "tang = []\n",
    "type(tang)"
   ]
  },
  {
   "cell_type": "code",
   "execution_count": 64,
   "id": "3b42382e",
   "metadata": {},
   "outputs": [
    {
     "data": {
      "text/plain": [
       "[1, 2, 3, 4]"
      ]
     },
     "execution_count": 64,
     "metadata": {},
     "output_type": "execute_result"
    }
   ],
   "source": [
    "tang = [1,2,3,4]\n",
    "tang"
   ]
  },
  {
   "cell_type": "code",
   "execution_count": null,
   "id": "f8052687",
   "metadata": {},
   "outputs": [],
   "source": [
    "tang = ['1','2','3','4']\n",
    "tang"
   ]
  },
  {
   "cell_type": "code",
   "execution_count": 65,
   "id": "f8ac7090",
   "metadata": {},
   "outputs": [
    {
     "data": {
      "text/plain": [
       "[1, 'tangyudi', 3, 5]"
      ]
     },
     "execution_count": 65,
     "metadata": {},
     "output_type": "execute_result"
    }
   ],
   "source": [
    "tang = [1, 'tangyudi', 3, 5]\n",
    "tang"
   ]
  },
  {
   "cell_type": "code",
   "execution_count": 66,
   "id": "6fa61371",
   "metadata": {},
   "outputs": [
    {
     "data": {
      "text/plain": [
       "[1, 2, 3]"
      ]
     },
     "execution_count": 66,
     "metadata": {},
     "output_type": "execute_result"
    }
   ],
   "source": [
    "tang = list([1,2,3])\n",
    "tang"
   ]
  },
  {
   "cell_type": "markdown",
   "id": "074f8c18",
   "metadata": {},
   "source": [
    "### list操作"
   ]
  },
  {
   "cell_type": "code",
   "execution_count": 67,
   "id": "9197fa79",
   "metadata": {},
   "outputs": [
    {
     "data": {
      "text/plain": [
       "3"
      ]
     },
     "execution_count": 67,
     "metadata": {},
     "output_type": "execute_result"
    }
   ],
   "source": [
    "len(tang)"
   ]
  },
  {
   "cell_type": "code",
   "execution_count": 68,
   "id": "910e7012",
   "metadata": {},
   "outputs": [
    {
     "data": {
      "text/plain": [
       "[123, 456, 'tang', 'yudi']"
      ]
     },
     "execution_count": 68,
     "metadata": {},
     "output_type": "execute_result"
    }
   ],
   "source": [
    "a = [123, 456]\n",
    "b = ['tang', 'yudi']\n",
    "a + b "
   ]
  },
  {
   "cell_type": "code",
   "execution_count": 69,
   "id": "68e48013",
   "metadata": {},
   "outputs": [
    {
     "data": {
      "text/plain": [
       "list"
      ]
     },
     "execution_count": 69,
     "metadata": {},
     "output_type": "execute_result"
    }
   ],
   "source": [
    "type(a+b)"
   ]
  },
  {
   "cell_type": "code",
   "execution_count": 70,
   "id": "bf782d16",
   "metadata": {},
   "outputs": [
    {
     "data": {
      "text/plain": [
       "[123, 456, 123, 456]"
      ]
     },
     "execution_count": 70,
     "metadata": {},
     "output_type": "execute_result"
    }
   ],
   "source": [
    "a*2"
   ]
  },
  {
   "cell_type": "code",
   "execution_count": 71,
   "id": "37befdc1",
   "metadata": {},
   "outputs": [
    {
     "data": {
      "text/plain": [
       "123"
      ]
     },
     "execution_count": 71,
     "metadata": {},
     "output_type": "execute_result"
    }
   ],
   "source": [
    "a[0]"
   ]
  },
  {
   "cell_type": "code",
   "execution_count": 72,
   "id": "33923dfd",
   "metadata": {},
   "outputs": [
    {
     "data": {
      "text/plain": [
       "[123, 456]"
      ]
     },
     "execution_count": 72,
     "metadata": {},
     "output_type": "execute_result"
    }
   ],
   "source": [
    "a[0:]"
   ]
  },
  {
   "cell_type": "code",
   "execution_count": 73,
   "id": "05af72cd",
   "metadata": {},
   "outputs": [
    {
     "data": {
      "text/plain": [
       "[789, 456]"
      ]
     },
     "execution_count": 73,
     "metadata": {},
     "output_type": "execute_result"
    }
   ],
   "source": [
    "a[0] = 789\n",
    "a"
   ]
  },
  {
   "cell_type": "code",
   "execution_count": 75,
   "id": "c832c632",
   "metadata": {},
   "outputs": [
    {
     "data": {
      "text/plain": [
       "['tang', 'yudi']"
      ]
     },
     "execution_count": 75,
     "metadata": {},
     "output_type": "execute_result"
    }
   ],
   "source": [
    "a[:] = ['tang', 'yudi']\n",
    "a"
   ]
  },
  {
   "cell_type": "code",
   "execution_count": 77,
   "id": "af0560bb",
   "metadata": {},
   "outputs": [
    {
     "data": {
      "text/plain": [
       "[5, 6, 7]"
      ]
     },
     "execution_count": 77,
     "metadata": {},
     "output_type": "execute_result"
    }
   ],
   "source": [
    "a = [1,2,3,4,5,6,7,8,9]\n",
    "a[4:7]"
   ]
  },
  {
   "cell_type": "code",
   "execution_count": 80,
   "id": "faba7384",
   "metadata": {},
   "outputs": [
    {
     "data": {
      "text/plain": [
       "[4, 5, 6, 7, 8, 9]"
      ]
     },
     "execution_count": 80,
     "metadata": {},
     "output_type": "execute_result"
    }
   ],
   "source": [
    "del a[0]\n",
    "a"
   ]
  },
  {
   "cell_type": "code",
   "execution_count": 81,
   "id": "6b2c55f0",
   "metadata": {},
   "outputs": [],
   "source": [
    "del a[3:]\n",
    "a"
   ]
  },
  {
   "cell_type": "code",
   "execution_count": 82,
   "id": "d424b041",
   "metadata": {},
   "outputs": [
    {
     "data": {
      "text/plain": [
       "True"
      ]
     },
     "execution_count": 82,
     "metadata": {},
     "output_type": "execute_result"
    }
   ],
   "source": [
    "a = [1,2,3,4,5,6,7,8,9]\n",
    "8 in a "
   ]
  },
  {
   "cell_type": "code",
   "execution_count": null,
   "id": "800b5403",
   "metadata": {},
   "outputs": [],
   "source": []
  }
 ],
 "metadata": {
  "kernelspec": {
   "display_name": "Python 3 (ipykernel)",
   "language": "python",
   "name": "python3"
  },
  "language_info": {
   "codemirror_mode": {
    "name": "ipython",
    "version": 3
   },
   "file_extension": ".py",
   "mimetype": "text/x-python",
   "name": "python",
   "nbconvert_exporter": "python",
   "pygments_lexer": "ipython3",
   "version": "3.11.3"
  }
 },
 "nbformat": 4,
 "nbformat_minor": 5
}
