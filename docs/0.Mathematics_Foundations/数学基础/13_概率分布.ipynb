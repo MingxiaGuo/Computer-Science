{
 "cells": [
  {
   "cell_type": "markdown",
   "metadata": {},
   "source": [
    "# 概率分布\n",
    "\n",
    "各种概率分布汇总：https://zhuanlan.zhihu.com/p/517424307\n",
    "\n",
    "数据分析|统计学中的各种分布（R&Py）：https://zhuanlan.zhihu.com/p/73606876\n",
    "\n",
    "唐宇迪视频：https://www.bilibili.com/video/BV13Z4y1R7HP?p=50&vd_source=50ac7e35d44afea54a236dfa228f618f\n",
    "\n",
    "github： https://github.com/zhaozhiching2018/-distribution-/blob/master/distribution/%E5%B8%B8%E8%A7%81%E5%88%86%E5%B8%83%E6%80%BB%E7%BB%93.md\n",
    "\n",
    "概率分布有两种类型：离散（discrete）概率分布和连续（continuous）概率分布。\n",
    "\n",
    "离散概率分布也称为概率质量函数（probability mass function）。离散概率分布的例子有伯努利分布（Bernoulli distribution）、二项分布（binomial distribution）、泊松分布（Poisson distribution）和几何分布（geometric distribution）等。\n",
    "\n",
    "连续概率分布也称为概率密度函数（probability density function），它们是具有连续取值（例如一条实线上的值）的函数。正态分布（normal distribution）、指数分布（exponential distribution）和β分布（beta distribution）等都属于连续概率分布。\n",
    "\n",
    "PCA降维 PCA（Principal Components Analysis）即主成分分析，也称主分量分析或主成分回归分析法，首先利用线性变换，将数据变换到一个新的坐标系统中；然后再利用降维的思想，使得任何数据投影的第一大方差在第一个坐标(称为第一主成分)上，第二大方差在第二个坐标(第二主成分)上。这种降维的思想首先减少数据集的维数，同时还保持数据集的对方差贡献最大的特征，最终使数据直观呈现在二维坐标系。"
   ]
  },
  {
   "cell_type": "markdown",
   "metadata": {},
   "source": [
    "## 1.离散分布与简单连续分布"
   ]
  },
  {
   "cell_type": "markdown",
   "metadata": {},
   "source": [
    "## 2.复杂连续分布"
   ]
  },
  {
   "cell_type": "markdown",
   "metadata": {},
   "source": [
    "### 2.1 正态分布(高斯)"
   ]
  },
  {
   "cell_type": "markdown",
   "metadata": {},
   "source": [
    "正态分布：正常分布，正态分布围绕期望的均值在左右两边小范围浮动。大量随机变量被证明是正态分布的。\n",
    "\n",
    "若随机变量X服从一个数学期望为μ，方差为σ^2的正态分布，记为N(μ，σ^2)。则其概率密度函数为：正态分布的期望μ决定了其位置，其标准差σ决定了分布的幅度。当μ=0，σ=1时的正态分布是标准正态分布。\n",
    "\n",
    "公式：\n",
    "$f(x|μ,σ)=\\frac{1}{2} $\n",
    "\n"
   ]
  }
 ],
 "metadata": {
  "language_info": {
   "name": "python"
  }
 },
 "nbformat": 4,
 "nbformat_minor": 2
}
